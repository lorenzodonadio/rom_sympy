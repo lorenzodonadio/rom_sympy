{
 "cells": [
  {
   "cell_type": "code",
   "execution_count": 2,
   "id": "3352a596",
   "metadata": {},
   "outputs": [],
   "source": [
    "%load_ext autoreload\n",
    "%autoreload 2\n",
    "\n",
    "import sympy as sm\n",
    "import sympy.physics.mechanics as me\n",
    "import matplotlib.pyplot as plt\n",
    "import numpy as np\n",
    "from scipy.integrate import solve_ivp\n",
    "from semiflex import SemiFlexBody\n",
    "from force_controlers import generator_torque_control,rotor_torque_jit,thrust_force_jit\n",
    "from utils import smaa\n",
    "me.init_vprinting(use_latex=\"mathjax\")"
   ]
  },
  {
   "cell_type": "code",
   "execution_count": 3,
   "id": "d7bd95d9",
   "metadata": {},
   "outputs": [
    {
     "name": "stderr",
     "output_type": "stream",
     "text": [
      "/home/lorenzo/miniconda3/envs/openfast/lib/python3.12/site-packages/sympy/physics/vector/point.py:577: UserWarning: \n",
      "Velocity of nac_cm automatically calculated based on point O but it is\n",
      "also possible from points(s): [rot_cm]. Velocities from these points\n",
      "are not necessarily the same. This may cause errors in your\n",
      "calculations.\n",
      "  warn(filldedent(f\"\"\"\n"
     ]
    }
   ],
   "source": [
    "t = me.dynamicsymbols._t\n",
    "# masses\n",
    "m_nac, m_rot = sm.symbols(\"m_nac,m_rot\")\n",
    "# distances\n",
    "xn_cm, zn_cm, h_t, h_t_cm, d_nac_rot = sm.symbols(\"xn_cm, zn_cm,h_t, h_t_cm,d_nr\")\n",
    "\n",
    "# fixed angles\n",
    "alpha_tilt = sm.symbols(\"alpha\")\n",
    "z, g, c_quad = sm.symbols(\"z, g, c_quad\")\n",
    "\n",
    "# Inertias\n",
    "Ixx_n, Iyy_n, Izz_n, Ixx_r, Iyy_r, Izz_r = sm.symbols(\n",
    "    \"Ixx_n,Iyy_n,Izz_n,Ixx_r,Iyy_r,Izz_r\"\n",
    ")\n",
    "# Torques and Forces on the hub\n",
    "fx,fy,fz,mx,my,mz,torque_gen = sm.symbols(\"Fx,Fy,Fz,Mx,My,Mz,T_g\")\n",
    "\n",
    "q5, u5 = me.dynamicsymbols(\"q5,u5\")\n",
    "\n",
    "E = me.ReferenceFrame(\"E\")  # Earth\n",
    "## Points\n",
    "og = me.Point(\"O\")\n",
    "og.set_vel(E, 0)\n",
    "\n",
    "tower = SemiFlexBody(E,og,'tower',zcm=h_t_cm,dof_x=2,dof_y=2)\n",
    "q1,q2,q3,q4 = tower.q\n",
    "u1,u2,u3,u4 = tower.u\n",
    "\n",
    "N = me.ReferenceFrame(\"N\")  # Nacelle, rotated by tower deformations\n",
    "N.orient_body_fixed(E, (tower.theta_y, tower.theta_x, 0), \"XYZ\")\n",
    "\n",
    "# Rotor, tilted by a fixed amount and rotated by azimuth - normal rotor motion\n",
    "H = me.ReferenceFrame(\"H\") #hub\n",
    "H.orient_body_fixed(N, (0, alpha_tilt, 0), \"XYZ\")\n",
    "# R.orient_body_fixed(N, (alpha_tilt, q5, 0), \"YXZ\")\n",
    "# R.set_ang_vel(R, u5 * R.x)\n",
    "R = me.ReferenceFrame(\"R\")\n",
    "R.orient_body_fixed(H, (q5,0, 0), \"XYZ\")\n",
    "R.set_ang_vel(N, u5 * N.x)\n",
    "\n",
    "nacelle_cm = og.locatenew(\n",
    "    \"nac_cm\", h_t * E.z + zn_cm*N.z + xn_cm*N.x + (q1 + q2)*E.x  + (q3 + q4) * E.y\n",
    ")\n",
    "rotor_cm = nacelle_cm.locatenew(\"rot_cm\", -d_nac_rot * R.x)\n",
    "\n",
    "I_nacelle = me.inertia(N, Ixx_n, Iyy_n, Izz_n)\n",
    "I_rotor = me.inertia(R, Ixx_r, Iyy_r, Izz_r)\n",
    "\n",
    "nacelle = me.RigidBody(\"nacelle\", nacelle_cm, N, m_nac, (I_nacelle, nacelle_cm))\n",
    "rotor = me.RigidBody(\"rotor\", rotor_cm, R, m_rot, (I_rotor, rotor_cm))\n",
    "\n",
    "v_rot_x = rotor_cm.vel(E).dot(E.x) # rotor x velocity\n",
    "quad_damp_force = sm.simplify(-c_quad * sm.Abs(v_rot_x) * v_rot_x)\n",
    "\n",
    "# 2) your existing loads (gravity):\n",
    "loads = [\n",
    "    # (tower_cm,   -m_t * g * E.z),\n",
    "    (rotor_cm, quad_damp_force * E.x), # quad force\n",
    "    (rotor_cm, -m_rot * g * E.z),\n",
    "    (nacelle_cm, -m_nac * g * E.z),\n",
    "    (rotor_cm, fx * H.x),\n",
    "    (rotor_cm, fy * H.y),\n",
    "    (rotor_cm, fz * H.z),\n",
    "    (R, mx * R.x),\n",
    "    (H, my * H.y),\n",
    "    (H, mz * H.z),\n",
    "    (R, -torque_gen * R.x),\n",
    "    (N, torque_gen * R.x), \n",
    "]\n",
    "\n",
    "## add tower contribution to loads and bodies\n",
    "bodies =  [nacelle, rotor] + tower.get_bodies()\n",
    "loads = loads + tower.loads\n",
    "\n",
    "coordinates = [q1, q2, q3, q4, q5]\n",
    "speeds = [u1, u2, u3, u4, u5]\n",
    "\n",
    "kin_eqs = [\n",
    "    q1.diff(t) - u1,\n",
    "    q2.diff(t) - u2,\n",
    "    q3.diff(t) - u3,\n",
    "    q4.diff(t) - u4,\n",
    "    q5.diff(t) - u5,\n",
    "]\n",
    "nacelle_cm.v1pt_theory(og,E,E)\n",
    "# # 5. Set up Kane’s method\n",
    "KM = me.KanesMethod(E, q_ind=coordinates, u_ind=speeds, kd_eqs=kin_eqs)\n",
    "\n",
    "# # # 4) form the equations\n",
    "fr, frstar = KM.kanes_equations(bodies=bodies, loads=loads)"
   ]
  },
  {
   "cell_type": "code",
   "execution_count": 4,
   "id": "d7432b80",
   "metadata": {},
   "outputs": [],
   "source": [
    "mass_full = sm.trigsimp(KM.mass_matrix_full)\n",
    "forcing_full = KM.forcing_full\n",
    "state_syms = [q1,q2,q3,q4,q5,u1,u2,u3,u4,u5]\n",
    "ext_forces = [fx,fy,fz,mx,my,mz,torque_gen]\n",
    "# ext_forces = [force_wind,torque_wind,torque_gen]"
   ]
  },
  {
   "cell_type": "code",
   "execution_count": 5,
   "id": "a0b2612b",
   "metadata": {},
   "outputs": [
    {
     "data": {
      "text/latex": [
       "$\\displaystyle -  d_{nr}\\mathbf{\\hat{r}_x} + (q_{1} + q_{2})\\mathbf{\\hat{e}_x} + (q_{3} + q_{4})\\mathbf{\\hat{e}_y} + h_{t}\\mathbf{\\hat{e}_z} + xn_{cm}\\mathbf{\\hat{n}_x} + zn_{cm}\\mathbf{\\hat{n}_z}$"
      ],
      "text/plain": [
       "-dₙᵣ r_x + (q₁ + q₂) e_x + (q₃ + q₄) e_y + hₜ e_z + xn_cm n_x + zn_cm n_z"
      ]
     },
     "execution_count": 5,
     "metadata": {},
     "output_type": "execute_result"
    }
   ],
   "source": [
    "rotor.masscenter.pos_from(og)"
   ]
  },
  {
   "cell_type": "code",
   "execution_count": 6,
   "id": "220325d7",
   "metadata": {},
   "outputs": [
    {
     "data": {
      "text/latex": [
       "$\\displaystyle Ixx_{r} \\cos^{2}{\\left(\\alpha \\right)} + Iyy_{r} \\sin^{2}{\\left(\\alpha \\right)} \\sin^{2}{\\left(q_{5} \\right)} + Izz_{r} \\sin^{2}{\\left(\\alpha \\right)} \\cos^{2}{\\left(q_{5} \\right)} + d_{nr}^{2} m_{rot} \\sin^{2}{\\left(\\alpha \\right)}$"
      ],
      "text/plain": [
       "        2              2       2               2       2          2         2   \n",
       "Ixxᵣ⋅cos (α) + Iyyᵣ⋅sin (α)⋅sin (q₅) + Izzᵣ⋅sin (α)⋅cos (q₅) + dₙᵣ ⋅mᵣₒₜ⋅sin (α)"
      ]
     },
     "execution_count": 6,
     "metadata": {},
     "output_type": "execute_result"
    }
   ],
   "source": [
    "mass_full[-1,-1]"
   ]
  },
  {
   "cell_type": "code",
   "execution_count": 7,
   "id": "096b9e75",
   "metadata": {},
   "outputs": [
    {
     "name": "stdout",
     "output_type": "stream",
     "text": [
      "{'Ixx_n': 0.0, 'Ixx_r': 0.0, 'Iyy_n': 0.0, 'Iyy_r': 0.0, 'Izz_n': 0.0, 'Izz_r': 0.0, 'alpha': 0.0, 'c_quad': 0.0, 'c_xTO_1': 0.0, 'c_xTO_2': 0.0, 'c_yTO_1': 0.0, 'c_yTO_2': 0.0, 'd_nr': 0.0, 'g': 0.0, 'k_xTO_1': 0.0, 'k_xTO_2': 0.0, 'k_yTO_1': 0.0, 'k_yTO_2': 0.0, 'm_nac': 0.0, 'm_rot': 0.0, 'm_xTO_1': 0.0, 'm_xTO_2': 0.0, 'm_yTO_1': 0.0, 'm_yTO_2': 0.0, 'r_xTO_1': 0.0, 'r_xTO_2': 0.0, 'r_yTO_1': 0.0, 'r_yTO_2': 0.0, 'xn_cm': 0.0, 'zn_cm': 0.0}\n"
     ]
    }
   ],
   "source": [
    "all_free_symbols = (KM.mass_matrix_full.free_symbols | KM.forcing_full.free_symbols) - set(ext_forces +[t])\n",
    "\n",
    "sorted_syms = sorted([str(x) for x in all_free_symbols])\n",
    "print({k: 0.0 for k in sorted_syms}) # to create a placeholder for subs_num"
   ]
  },
  {
   "cell_type": "code",
   "execution_count": 8,
   "id": "be8a8092",
   "metadata": {},
   "outputs": [],
   "source": [
    "import pickle\n",
    "\n",
    "results_to_save = {\n",
    "    'mass_full': mass_full,\n",
    "    'forcing_full': forcing_full,\n",
    "    'mass_sma': smaa(smaa(mass_full,tower.theta_y),tower.theta_x),\n",
    "    'forcing_sma':smaa(smaa(forcing_full,tower.theta_y),tower.theta_x),\n",
    "    'coordinates' : coordinates,\n",
    "    'speeds' : speeds,\n",
    "    'ext_forces': ext_forces\n",
    "}\n",
    "\n",
    "with open('5dof_km_res.pkl', 'wb') as f:\n",
    "    pickle.dump(results_to_save, f)\n",
    "\n",
    "# --- LOAD FROM FILE ---\n",
    "with open('5dof_km_res.pkl', 'rb') as f:\n",
    "    loaded_results = pickle.load(f)"
   ]
  },
  {
   "cell_type": "code",
   "execution_count": 9,
   "id": "573f42e4",
   "metadata": {},
   "outputs": [
    {
     "data": {
      "text/latex": [
       "$\\displaystyle \\left\\{Fx, Fy, Fz, Ixx_{n}, Ixx_{r}, Iyy_{n}, Iyy_{r}, Izz_{n}, Izz_{r}, Mx, My, Mz, T_{g}, \\alpha, c_{quad}, d_{nr}, g, m_{nac}, m_{rot}, t, xn_{cm}, zn_{cm}\\right\\}$"
      ],
      "text/plain": [
       "{Fx, Fy, Fz, Ixxₙ, Ixxᵣ, Iyyₙ, Iyyᵣ, Izzₙ, Izzᵣ, Mx, My, Mz, T_g, α, c_quad, d ↪\n",
       "\n",
       "↪ ₙᵣ, g, m_nac, mᵣₒₜ, t, xn_cm, zn_cm}"
      ]
     },
     "execution_count": 9,
     "metadata": {},
     "output_type": "execute_result"
    }
   ],
   "source": [
    "freesyms = forcing_full.free_symbols | mass_full.free_symbols\n",
    "\n",
    "freesyms-tower.free_symbols # actual free symbols outside the tower"
   ]
  },
  {
   "cell_type": "code",
   "execution_count": 56,
   "id": "6ec43690",
   "metadata": {},
   "outputs": [],
   "source": [
    "## results from combination of masses stiffness and shape functions\n",
    "k1, k2 = 80e5, 2436e7\n",
    "mt1,mt2 =  710_000, 3320_000\n",
    "r_1t = 0.0185\n",
    "r_2t = 0.268\n",
    "# c_damp = 330_000\n",
    "\n",
    "c_damp1 = 0.01*2*np.sqrt(mt1*k1)\n",
    "c_damp2 = 0.02*2*np.sqrt(mt2*k2)\n",
    " ## this is how we fill in the tower variables as a subs dict\n",
    "t_subs,_tm = tower.get_subs_dict()\n",
    "\n",
    "#Generalized masses for mode shapes\n",
    "t_subs[_tm['m_xTO_1']] = mt1 # Fore- aft 1\n",
    "t_subs[_tm['m_xTO_2']] = mt2\n",
    "t_subs[_tm['m_yTO_1']] = mt1\n",
    "t_subs[_tm['m_yTO_2']] = mt2\n",
    "\n",
    "t_subs[_tm['k_xTO_1']] = k1\n",
    "t_subs[_tm['k_xTO_2']] = k2\n",
    "t_subs[_tm['k_yTO_1']] = k1\n",
    "t_subs[_tm['k_yTO_2']] = k2\n",
    "\n",
    "t_subs[_tm['r_xTO_1']] = r_1t\n",
    "t_subs[_tm['r_xTO_2']] = r_2t\n",
    "t_subs[_tm['r_yTO_1']] = r_1t\n",
    "t_subs[_tm['r_yTO_2']] = r_2t\n",
    "\n",
    "t_subs[_tm['c_xTO_1']] = c_damp1\n",
    "t_subs[_tm['c_xTO_2']] = c_damp2\n",
    "t_subs[_tm['c_yTO_1']] = c_damp1\n",
    "t_subs[_tm['c_yTO_2']] = c_damp2\n",
    "\n",
    "subs_dims = {\n",
    "    xn_cm: 1.9,\n",
    "    zn_cm: 1.75,\n",
    "    d_nac_rot: 5,\n",
    "    alpha_tilt: np.deg2rad(5),\n",
    "    m_rot: 110_0000,\n",
    "    m_nac: 240_0000,\n",
    "    # Nacelle inertias (rectangular prism approx)\n",
    "    Ixx_n: 3.23e6,  # kg·m²\n",
    "    Iyy_n: 3.07e6,  # kg·m²\n",
    "    Izz_n: 2.61e6,  # kg·m²\n",
    "    # Rotor (hub sphere approx)\n",
    "    Ixx_r: 1.93e5,  # kg·m²\n",
    "    Iyy_r: 1.93e5,  # kg·m²\n",
    "    Izz_r: 1.93e5,  # kg·m²\n",
    "    g: 9.81,\n",
    "}\n",
    "# 115926\n",
    "# 2.60789E+06"
   ]
  },
  {
   "cell_type": "code",
   "execution_count": null,
   "id": "1b2e2421",
   "metadata": {},
   "outputs": [],
   "source": [
    "# 1. Substitute values\n",
    "\n",
    "# 2. Lambdify for fast evaluation\n",
    "\n",
    "\n",
    "M_num = mass_full.subs(subs_dims).subs(t_subs)\n",
    "F_num = forcing_full.subs(subs_dims).subs(t_subs)\n",
    "# M_num = mass_full.subs(subs_dims).subs(t_subs)\n",
    "# F_num = forcing_full.subs(subs_dims).subs(t_subs)\n",
    "\n",
    "M_num_sma = smaa(smaa(mass_full,tower.theta_y),tower.theta_x).subs(subs_dims).subs(t_subs)\n",
    "F_num_sma = smaa(smaa(forcing_full,tower.theta_y),tower.theta_x).subs(subs_dims).subs(t_subs)\n",
    "\n",
    "#numexpr, cython, numpy\n",
    "\n",
    "M_func = sm.lambdify(state_syms, M_num, 'numpy')\n",
    "F_func = sm.lambdify(state_syms+ext_forces, F_num, 'numpy')\n",
    "\n",
    "M_func_sma = sm.lambdify(state_syms, M_num_sma, 'numpy')\n",
    "F_func_sma = sm.lambdify(state_syms+ext_forces, F_num_sma, 'numpy')"
   ]
  },
  {
   "cell_type": "code",
   "execution_count": 6,
   "id": "b7ddffad",
   "metadata": {},
   "outputs": [],
   "source": [
    "R = 50\n",
    "omega_max = 12\n",
    "\n",
    "def rhs(t, y,ws=0):\n",
    "    omega = y[9]\n",
    "    f_wind = thrust_force_jit(R,ws)\n",
    "    t_wind = rotor_torque_jit(R,ws,omega)\n",
    "    t_gen = generator_torque_control(t_wind,omega,omega_max,k_p=1)\n",
    "    M = M_func(*y)\n",
    "    F = F_func(*y,f_wind,t_wind,t_gen).flatten()\n",
    "    return np.linalg.solve(M, F)\n",
    "\n",
    "# def rhs_sma(t, y,ws=0):\n",
    "#     omega = y[9]\n",
    "#     f_wind = thrust_force_jit(R,ws)\n",
    "#     t_wind = rotor_torque_jit(R,ws,omega)\n",
    "#     t_gen = generator_torque_control(t_wind,omega,omega_max,k_p=0.1)\n",
    "#     M = M_func_sma(*y)\n",
    "#     F = F_func_sma(*y,f_wind,t_wind,t_gen).flatten()\n",
    "#     return np.linalg.solve(M, F)"
   ]
  }
 ],
 "metadata": {
  "kernelspec": {
   "display_name": "openfast",
   "language": "python",
   "name": "python3"
  },
  "language_info": {
   "codemirror_mode": {
    "name": "ipython",
    "version": 3
   },
   "file_extension": ".py",
   "mimetype": "text/x-python",
   "name": "python",
   "nbconvert_exporter": "python",
   "pygments_lexer": "ipython3",
   "version": "3.12.9"
  }
 },
 "nbformat": 4,
 "nbformat_minor": 5
}
