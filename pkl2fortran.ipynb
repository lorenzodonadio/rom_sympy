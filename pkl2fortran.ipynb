{
 "cells": [
  {
   "cell_type": "code",
   "execution_count": 1,
   "id": "2b235c1b",
   "metadata": {},
   "outputs": [],
   "source": [
    "import re\n",
    "import pickle\n",
    "\n",
    "import numpy as np\n",
    "\n",
    "import sympy as sm\n",
    "import sympy.physics.mechanics as me\n",
    "from sympy.utilities.codegen import codegen\n",
    "\n",
    "me.init_vprinting(use_latex=\"mathjax\")"
   ]
  },
  {
   "cell_type": "code",
   "execution_count": 2,
   "id": "cc256865",
   "metadata": {},
   "outputs": [],
   "source": [
    "from fort_utils import add_line_under_subroutine, create_data_module,create_init_namelist,d2s,dict_to_namelist,add_txt_after_sep"
   ]
  },
  {
   "cell_type": "code",
   "execution_count": 3,
   "id": "b70d1bab",
   "metadata": {},
   "outputs": [],
   "source": [
    "output_path = \"/home/lorenzo/Desktop/feuphd/dynfode\""
   ]
  },
  {
   "cell_type": "markdown",
   "id": "30f7c8d4",
   "metadata": {},
   "source": [
    "### 3DOF"
   ]
  },
  {
   "cell_type": "code",
   "execution_count": 4,
   "id": "82c34a6f",
   "metadata": {},
   "outputs": [],
   "source": [
    "module_name = \"turbine_parameters_3dof\"\n",
    "namelist_name = \"TURBINE_INPUTS_3DOF\""
   ]
  },
  {
   "cell_type": "code",
   "execution_count": 5,
   "id": "4a3a0735",
   "metadata": {},
   "outputs": [],
   "source": [
    "with open('3dof_km_res.pkl', 'rb') as f:\n",
    "    KM = pickle.load(f) #Kanes Method results"
   ]
  },
  {
   "cell_type": "code",
   "execution_count": 6,
   "id": "746b52a0",
   "metadata": {},
   "outputs": [],
   "source": [
    "mass_full = KM['mass_full']\n",
    "forcing_full = KM['forcing_full']\n",
    "mass_sma = KM['mass_sma']\n",
    "forcing_sma = KM['forcing_sma']\n",
    "ext_forces = KM['ext_forces']\n",
    "\n",
    "all_free_symbols = (mass_full.free_symbols | forcing_full.free_symbols) - set(ext_forces +[me.dynamicsymbols._t])\n",
    "\n",
    "sorted_syms = sorted([str(x) for x in all_free_symbols])\n",
    "# print({k: 0.0 for k in sorted_syms}) # to create a placeholder for subs_num\n"
   ]
  },
  {
   "cell_type": "code",
   "execution_count": 7,
   "id": "332f3f4b",
   "metadata": {},
   "outputs": [
    {
     "data": {
      "text/latex": [
       "$\\displaystyle \\left\\{Ixx_{r}, Iyy_{n}, Iyy_{r}, Izz_{r}, \\alpha, c_{quad}, c_{xTO 1}, c_{xTO 2}, d_{nr}, g, k_{xTO 1}, k_{xTO 2}, m_{nac}, m_{rot}, m_{xTO 1}, m_{xTO 2}, r_{xTO 1}, r_{xTO 2}, xn_{cm}, zn_{cm}\\right\\}$"
      ],
      "text/plain": [
       "{Ixxᵣ, Iyyₙ, Iyyᵣ, Izzᵣ, α, c_quad, c_xTO_1, c_xTO_2, dₙᵣ, g, k_xTO_1, k_xTO_2 ↪\n",
       "\n",
       "↪ , m_nac, mᵣₒₜ, m_xTO_1, m_xTO_2, r_xTO_1, r_xTO_2, xn_cm, zn_cm}"
      ]
     },
     "execution_count": 7,
     "metadata": {},
     "output_type": "execute_result"
    }
   ],
   "source": [
    "all_free_symbols"
   ]
  },
  {
   "cell_type": "code",
   "execution_count": 8,
   "id": "2fd1506b",
   "metadata": {},
   "outputs": [
    {
     "name": "stdout",
     "output_type": "stream",
     "text": [
      "✅ /home/lorenzo/Desktop/feuphd/dynfode/src/turbine_parameters_3dof.f90 generated!\n"
     ]
    }
   ],
   "source": [
    "create_data_module(module_name,namelist_name,sorted_syms,output_path+'/src')\n",
    "# create_init_namelist(namelist_name,sorted_syms,output_path)\n",
    "# dict_to_namelist(namelist_name,{k: 0.0 for k in sorted_syms},output_path,sorted_syms)"
   ]
  },
  {
   "cell_type": "code",
   "execution_count": 9,
   "id": "a2b80912",
   "metadata": {},
   "outputs": [
    {
     "name": "stdout",
     "output_type": "stream",
     "text": [
      "✅ Modified file saved: /home/lorenzo/Desktop/feuphd/dynfode/src/sym_3dof.f90\n"
     ]
    }
   ],
   "source": [
    "\n",
    "file_prefix = output_path+\"/src/sym_3dof\" \n",
    "# Generate Fortran code for M and F\n",
    "dyn_to_sym = d2s(KM)\n",
    "res = codegen(\n",
    "    [\n",
    "        (\"mass_full_3dof\", mass_full.subs(dyn_to_sym)),\n",
    "        (\"forcing_full_3dof\", forcing_full.subs(dyn_to_sym)),\n",
    "        (\"mass_sma_3dof\", mass_sma.subs(dyn_to_sym)),\n",
    "        (\"forcing_sma_3dof\", forcing_sma.subs(dyn_to_sym))\n",
    "    ],\n",
    "    language=\"F95\",\n",
    "    to_files=True,  # Set to False if you want the code as strings\n",
    "    prefix=file_prefix,\n",
    "    global_vars=list(all_free_symbols)\n",
    ")\n",
    "\n",
    "add_line_under_subroutine(file_prefix+\".f90\",f\"use {module_name}\")"
   ]
  },
  {
   "cell_type": "markdown",
   "id": "778864c5",
   "metadata": {},
   "source": [
    "## 5DOF"
   ]
  },
  {
   "cell_type": "code",
   "execution_count": 10,
   "id": "8fb417d0",
   "metadata": {},
   "outputs": [],
   "source": [
    "\n",
    "with open('5dof_km_res.pkl', 'rb') as f:\n",
    "    KM = pickle.load(f) #Kanes Method results"
   ]
  },
  {
   "cell_type": "code",
   "execution_count": 11,
   "id": "39290347",
   "metadata": {},
   "outputs": [],
   "source": [
    "namelist_name = \"TURBINE_INPUTS_5DOF\"\n",
    "module_name = \"turbine_parameters_5dof\""
   ]
  },
  {
   "cell_type": "code",
   "execution_count": 12,
   "id": "46013c07",
   "metadata": {},
   "outputs": [],
   "source": [
    "mass_full = KM['mass_full']\n",
    "forcing_full = KM['forcing_full']\n",
    "mass_sma = KM['mass_sma']\n",
    "forcing_sma = KM['forcing_sma']\n",
    "ext_forces = KM['ext_forces']\n",
    "\n",
    "all_free_symbols = (mass_full.free_symbols | forcing_full.free_symbols) - set(ext_forces +[me.dynamicsymbols._t])\n",
    "\n",
    "sorted_syms = sorted([str(x) for x in all_free_symbols])"
   ]
  },
  {
   "cell_type": "code",
   "execution_count": 18,
   "id": "7bea7d22",
   "metadata": {},
   "outputs": [],
   "source": [
    "subs_num = {k:0.0 for k in sorted_syms}"
   ]
  },
  {
   "cell_type": "code",
   "execution_count": 13,
   "id": "c772c85b",
   "metadata": {},
   "outputs": [
    {
     "name": "stdout",
     "output_type": "stream",
     "text": [
      "✅ /home/lorenzo/Desktop/feuphd/dynfode/src/turbine_parameters_5dof.f90 generated!\n"
     ]
    }
   ],
   "source": [
    "create_data_module(module_name,namelist_name,sorted_syms,output_path+'/src')\n",
    "# create_init_namelist(namelist_name,sorted_syms,output_path)\n",
    "# dict_to_namelist(namelist_name,subs_num,output_path,sorted_syms)"
   ]
  },
  {
   "cell_type": "code",
   "execution_count": 14,
   "id": "98dfd0da",
   "metadata": {},
   "outputs": [
    {
     "name": "stdout",
     "output_type": "stream",
     "text": [
      "✅ Modified file saved: /home/lorenzo/Desktop/feuphd/dynfode/src/sym_5dof.f90\n"
     ]
    }
   ],
   "source": [
    "\n",
    "file_prefix = output_path+\"/src/sym_5dof\" \n",
    "# Generate Fortran code for M and F\n",
    "dyn_to_sym = d2s(KM)\n",
    "res = codegen(\n",
    "    [\n",
    "        (\"mass_full_5dof\", mass_full.subs(dyn_to_sym)),\n",
    "        (\"forcing_full_5dof\", forcing_full.subs(dyn_to_sym)),\n",
    "        (\"mass_sma_5dof\", mass_sma.subs(dyn_to_sym)),\n",
    "        (\"forcing_sma_5dof\", forcing_sma.subs(dyn_to_sym))\n",
    "    ],\n",
    "    language=\"F95\",\n",
    "    to_files=True,  # Set to False if you want the code as strings\n",
    "    prefix=file_prefix,\n",
    "    global_vars=list(all_free_symbols)\n",
    ")\n",
    "\n",
    "add_line_under_subroutine(file_prefix+\".f90\",f\"use {module_name}\")"
   ]
  },
  {
   "cell_type": "markdown",
   "id": "e967da73",
   "metadata": {},
   "source": [
    "### 8DOF"
   ]
  },
  {
   "cell_type": "code",
   "execution_count": 15,
   "id": "df4e839f",
   "metadata": {},
   "outputs": [],
   "source": [
    "with open('8dof_km_res.pkl', 'rb') as f:\n",
    "    KM = pickle.load(f) #Kanes Method results"
   ]
  },
  {
   "cell_type": "code",
   "execution_count": 16,
   "id": "e9fbff3f",
   "metadata": {},
   "outputs": [],
   "source": [
    "namelist_name = \"TURBINE_INPUTS_8DOF\"\n",
    "module_name = \"turbine_parameters_8dof\""
   ]
  },
  {
   "cell_type": "code",
   "execution_count": 19,
   "id": "f6ae073d",
   "metadata": {},
   "outputs": [
    {
     "name": "stdout",
     "output_type": "stream",
     "text": [
      "new parameters in 8dof vs 5dof\n",
      "[]\n"
     ]
    }
   ],
   "source": [
    "mass_full = KM['mass_full']\n",
    "forcing_full = KM['forcing_full']\n",
    "mass_sma = KM['mass_sma']\n",
    "forcing_sma = KM['forcing_sma']\n",
    "ext_forces = KM['ext_forces']\n",
    "\n",
    "all_free_symbols = (mass_full.free_symbols | forcing_full.free_symbols) - set(ext_forces +[me.dynamicsymbols._t])\n",
    "\n",
    "sorted_syms = sorted([str(x) for x in all_free_symbols])\n",
    "subs_num8dof = {k:0.0 for k in sorted_syms}\n",
    "\n",
    "for k,v in subs_num.items():\n",
    "    if k in subs_num8dof.keys():\n",
    "        subs_num8dof[k] = v\n",
    "        \n",
    "print('new parameters in 8dof vs 5dof')\n",
    "print([k for k in subs_num8dof.keys() if k not in subs_num.keys()])"
   ]
  },
  {
   "cell_type": "code",
   "execution_count": 21,
   "id": "506193e2",
   "metadata": {},
   "outputs": [
    {
     "name": "stdout",
     "output_type": "stream",
     "text": [
      "✅ /home/lorenzo/Desktop/feuphd/dynfode/src/turbine_parameters_8dof.f90 generated!\n"
     ]
    }
   ],
   "source": [
    "create_data_module(module_name,namelist_name,sorted_syms,output_path+'/src')\n",
    "# create_init_namelist(namelist_name,sorted_syms,output_path)\n",
    "# dict_to_namelist(namelist_name,subs_num8dof,output_path,sorted_syms)"
   ]
  },
  {
   "cell_type": "code",
   "execution_count": 22,
   "id": "5f588d82",
   "metadata": {},
   "outputs": [
    {
     "name": "stdout",
     "output_type": "stream",
     "text": [
      "✅ Modified file saved: /home/lorenzo/Desktop/feuphd/dynfode/src/sym_8dof.f90\n"
     ]
    }
   ],
   "source": [
    "file_prefix = output_path+\"/src/sym_8dof\" \n",
    "# Generate Fortran code for M and F\n",
    "dyn_to_sym = d2s(KM)\n",
    "res = codegen(\n",
    "    [\n",
    "        (\"mass_full_8dof\", mass_full.subs(dyn_to_sym)),\n",
    "        (\"forcing_full_8dof\", forcing_full.subs(dyn_to_sym)),\n",
    "        (\"mass_sma_8dof\", mass_sma.subs(dyn_to_sym)),\n",
    "        (\"forcing_sma_8dof\", forcing_sma.subs(dyn_to_sym))\n",
    "    ],\n",
    "    language=\"F95\",\n",
    "    to_files=True,  # Set to False if you want the code as strings\n",
    "    prefix=file_prefix,\n",
    "    global_vars=list(all_free_symbols)\n",
    ")\n",
    "add_line_under_subroutine(file_prefix+\".f90\",f\"use {module_name}\")"
   ]
  },
  {
   "cell_type": "markdown",
   "id": "6decb982",
   "metadata": {},
   "source": [
    "## 9 DOF"
   ]
  },
  {
   "cell_type": "code",
   "execution_count": 4,
   "id": "ea88cf76",
   "metadata": {},
   "outputs": [],
   "source": [
    "with open('9dof_km_res.pkl', 'rb') as f:\n",
    "    KM = pickle.load(f) #Kanes Method results"
   ]
  },
  {
   "cell_type": "code",
   "execution_count": 5,
   "id": "46096a9c",
   "metadata": {},
   "outputs": [],
   "source": [
    "namelist_name = \"TURBINE_INPUTS_9DOF\"\n",
    "module_name = \"turbine_parameters_9dof\""
   ]
  },
  {
   "cell_type": "code",
   "execution_count": 6,
   "id": "f7eee02d",
   "metadata": {},
   "outputs": [],
   "source": [
    "mass_full = KM['mass_full']\n",
    "forcing_full = KM['forcing_full']\n",
    "mass_sma = KM['mass_sma']\n",
    "forcing_sma = KM['forcing_sma']\n",
    "ext_forces = KM['ext_forces']\n",
    "\n",
    "all_free_symbols = (mass_full.free_symbols | forcing_full.free_symbols) - set(ext_forces +[me.dynamicsymbols._t])\n",
    "\n",
    "sorted_syms = sorted([str(x) for x in all_free_symbols])\n",
    "subs_num9dof = {k:0.0 for k in sorted_syms}\n",
    "\n",
    "# for k,v in subs_num.items():\n",
    "#     if k in subs_num9dof.keys():\n",
    "#         subs_num9dof[k] = v\n",
    "        \n",
    "# print('new parameters in 9dof vs 5dof')\n",
    "# print([k for k in subs_num9dof.keys() if k not in subs_num.keys()])"
   ]
  },
  {
   "cell_type": "code",
   "execution_count": 8,
   "id": "7b772ec3",
   "metadata": {},
   "outputs": [
    {
     "name": "stdout",
     "output_type": "stream",
     "text": [
      "✅ /home/lorenzo/Desktop/feuphd/dynfode/src/turbine_parameters_9dof.f90 generated!\n",
      "✅ /home/lorenzo/Desktop/feuphd/dynfode/turbine_inputs_9dof.nml generated!\n"
     ]
    }
   ],
   "source": [
    "create_data_module(module_name,namelist_name,sorted_syms,output_path+'/src')\n",
    "# create_init_namelist(namelist_name,sorted_syms,output_path)\n",
    "dict_to_namelist(namelist_name,subs_num9dof,output_path,sorted_syms)"
   ]
  },
  {
   "cell_type": "code",
   "execution_count": 9,
   "id": "d65de4fd",
   "metadata": {},
   "outputs": [
    {
     "name": "stdout",
     "output_type": "stream",
     "text": [
      "✅ Modified file saved: /home/lorenzo/Desktop/feuphd/dynfode/src/sym_9dof.f90\n"
     ]
    }
   ],
   "source": [
    "file_prefix = output_path+\"/src/sym_9dof\" \n",
    "# Generate Fortran code for M and F\n",
    "dyn_to_sym = d2s(KM)\n",
    "res = codegen(\n",
    "    [\n",
    "        (\"mass_full_9dof\", mass_full.subs(dyn_to_sym)),\n",
    "        (\"forcing_full_9dof\", forcing_full.subs(dyn_to_sym)),\n",
    "        (\"mass_sma_9dof\", mass_sma.subs(dyn_to_sym)),\n",
    "        (\"forcing_sma_9dof\", forcing_sma.subs(dyn_to_sym))\n",
    "    ],\n",
    "    language=\"F95\",\n",
    "    to_files=True,  # Set to False if you want the code as strings\n",
    "    prefix=file_prefix,\n",
    "    global_vars=list(all_free_symbols)\n",
    ")\n",
    "add_line_under_subroutine(file_prefix+\".f90\",f\"use {module_name}\")"
   ]
  },
  {
   "cell_type": "code",
   "execution_count": null,
   "id": "e075e198",
   "metadata": {},
   "outputs": [],
   "source": []
  }
 ],
 "metadata": {
  "kernelspec": {
   "display_name": "openfast",
   "language": "python",
   "name": "python3"
  },
  "language_info": {
   "codemirror_mode": {
    "name": "ipython",
    "version": 3
   },
   "file_extension": ".py",
   "mimetype": "text/x-python",
   "name": "python",
   "nbconvert_exporter": "python",
   "pygments_lexer": "ipython3",
   "version": "3.12.9"
  }
 },
 "nbformat": 4,
 "nbformat_minor": 5
}
